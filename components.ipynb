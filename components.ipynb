{
 "cells": [
  {
   "cell_type": "code",
   "execution_count": 1,
   "id": "40a8d8a2",
   "metadata": {},
   "outputs": [
    {
     "name": "stdout",
     "output_type": "stream",
     "text": [
      "Collecting stqdm\n",
      "  Downloading stqdm-0.0.5-py3-none-any.whl.metadata (3.0 kB)\n",
      "Requirement already satisfied: streamlit>=0.66 in c:\\users\\jobsr\\github\\s7\\.venv\\lib\\site-packages (from stqdm) (1.44.1)\n",
      "Requirement already satisfied: tqdm>=4.50 in c:\\users\\jobsr\\github\\s7\\.venv\\lib\\site-packages (from stqdm) (4.67.1)\n",
      "Requirement already satisfied: altair<6,>=4.0 in c:\\users\\jobsr\\github\\s7\\.venv\\lib\\site-packages (from streamlit>=0.66->stqdm) (5.5.0)\n",
      "Requirement already satisfied: blinker<2,>=1.0.0 in c:\\users\\jobsr\\github\\s7\\.venv\\lib\\site-packages (from streamlit>=0.66->stqdm) (1.9.0)\n",
      "Requirement already satisfied: cachetools<6,>=4.0 in c:\\users\\jobsr\\github\\s7\\.venv\\lib\\site-packages (from streamlit>=0.66->stqdm) (5.5.2)\n",
      "Requirement already satisfied: click<9,>=7.0 in c:\\users\\jobsr\\github\\s7\\.venv\\lib\\site-packages (from streamlit>=0.66->stqdm) (8.1.8)\n",
      "Requirement already satisfied: numpy<3,>=1.23 in c:\\users\\jobsr\\github\\s7\\.venv\\lib\\site-packages (from streamlit>=0.66->stqdm) (2.2.4)\n",
      "Requirement already satisfied: packaging<25,>=20 in c:\\users\\jobsr\\github\\s7\\.venv\\lib\\site-packages (from streamlit>=0.66->stqdm) (24.2)\n",
      "Requirement already satisfied: pandas<3,>=1.4.0 in c:\\users\\jobsr\\github\\s7\\.venv\\lib\\site-packages (from streamlit>=0.66->stqdm) (2.2.3)\n",
      "Requirement already satisfied: pillow<12,>=7.1.0 in c:\\users\\jobsr\\github\\s7\\.venv\\lib\\site-packages (from streamlit>=0.66->stqdm) (11.1.0)\n",
      "Requirement already satisfied: protobuf<6,>=3.20 in c:\\users\\jobsr\\github\\s7\\.venv\\lib\\site-packages (from streamlit>=0.66->stqdm) (5.29.4)\n",
      "Requirement already satisfied: pyarrow>=7.0 in c:\\users\\jobsr\\github\\s7\\.venv\\lib\\site-packages (from streamlit>=0.66->stqdm) (18.1.0)\n",
      "Requirement already satisfied: requests<3,>=2.27 in c:\\users\\jobsr\\github\\s7\\.venv\\lib\\site-packages (from streamlit>=0.66->stqdm) (2.32.3)\n",
      "Requirement already satisfied: tenacity<10,>=8.1.0 in c:\\users\\jobsr\\github\\s7\\.venv\\lib\\site-packages (from streamlit>=0.66->stqdm) (9.1.2)\n",
      "Requirement already satisfied: toml<2,>=0.10.1 in c:\\users\\jobsr\\github\\s7\\.venv\\lib\\site-packages (from streamlit>=0.66->stqdm) (0.10.2)\n",
      "Requirement already satisfied: typing-extensions<5,>=4.4.0 in c:\\users\\jobsr\\github\\s7\\.venv\\lib\\site-packages (from streamlit>=0.66->stqdm) (4.13.1)\n",
      "Requirement already satisfied: watchdog<7,>=2.1.5 in c:\\users\\jobsr\\github\\s7\\.venv\\lib\\site-packages (from streamlit>=0.66->stqdm) (6.0.0)\n",
      "Requirement already satisfied: gitpython!=3.1.19,<4,>=3.0.7 in c:\\users\\jobsr\\github\\s7\\.venv\\lib\\site-packages (from streamlit>=0.66->stqdm) (3.1.44)\n",
      "Requirement already satisfied: pydeck<1,>=0.8.0b4 in c:\\users\\jobsr\\github\\s7\\.venv\\lib\\site-packages (from streamlit>=0.66->stqdm) (0.9.1)\n",
      "Requirement already satisfied: tornado<7,>=6.0.3 in c:\\users\\jobsr\\github\\s7\\.venv\\lib\\site-packages (from streamlit>=0.66->stqdm) (6.4.2)\n",
      "Requirement already satisfied: colorama in c:\\users\\jobsr\\github\\s7\\.venv\\lib\\site-packages (from tqdm>=4.50->stqdm) (0.4.6)\n",
      "Requirement already satisfied: jinja2 in c:\\users\\jobsr\\github\\s7\\.venv\\lib\\site-packages (from altair<6,>=4.0->streamlit>=0.66->stqdm) (3.1.6)\n",
      "Requirement already satisfied: jsonschema>=3.0 in c:\\users\\jobsr\\github\\s7\\.venv\\lib\\site-packages (from altair<6,>=4.0->streamlit>=0.66->stqdm) (4.23.0)\n",
      "Requirement already satisfied: narwhals>=1.14.2 in c:\\users\\jobsr\\github\\s7\\.venv\\lib\\site-packages (from altair<6,>=4.0->streamlit>=0.66->stqdm) (1.33.0)\n",
      "Requirement already satisfied: gitdb<5,>=4.0.1 in c:\\users\\jobsr\\github\\s7\\.venv\\lib\\site-packages (from gitpython!=3.1.19,<4,>=3.0.7->streamlit>=0.66->stqdm) (4.0.12)\n",
      "Requirement already satisfied: python-dateutil>=2.8.2 in c:\\users\\jobsr\\github\\s7\\.venv\\lib\\site-packages (from pandas<3,>=1.4.0->streamlit>=0.66->stqdm) (2.9.0.post0)\n",
      "Requirement already satisfied: pytz>=2020.1 in c:\\users\\jobsr\\github\\s7\\.venv\\lib\\site-packages (from pandas<3,>=1.4.0->streamlit>=0.66->stqdm) (2025.2)\n",
      "Requirement already satisfied: tzdata>=2022.7 in c:\\users\\jobsr\\github\\s7\\.venv\\lib\\site-packages (from pandas<3,>=1.4.0->streamlit>=0.66->stqdm) (2025.2)\n",
      "Requirement already satisfied: charset-normalizer<4,>=2 in c:\\users\\jobsr\\github\\s7\\.venv\\lib\\site-packages (from requests<3,>=2.27->streamlit>=0.66->stqdm) (3.4.1)\n",
      "Requirement already satisfied: idna<4,>=2.5 in c:\\users\\jobsr\\github\\s7\\.venv\\lib\\site-packages (from requests<3,>=2.27->streamlit>=0.66->stqdm) (3.10)\n",
      "Requirement already satisfied: urllib3<3,>=1.21.1 in c:\\users\\jobsr\\github\\s7\\.venv\\lib\\site-packages (from requests<3,>=2.27->streamlit>=0.66->stqdm) (2.3.0)\n",
      "Requirement already satisfied: certifi>=2017.4.17 in c:\\users\\jobsr\\github\\s7\\.venv\\lib\\site-packages (from requests<3,>=2.27->streamlit>=0.66->stqdm) (2025.1.31)\n",
      "Requirement already satisfied: smmap<6,>=3.0.1 in c:\\users\\jobsr\\github\\s7\\.venv\\lib\\site-packages (from gitdb<5,>=4.0.1->gitpython!=3.1.19,<4,>=3.0.7->streamlit>=0.66->stqdm) (5.0.2)\n",
      "Requirement already satisfied: MarkupSafe>=2.0 in c:\\users\\jobsr\\github\\s7\\.venv\\lib\\site-packages (from jinja2->altair<6,>=4.0->streamlit>=0.66->stqdm) (3.0.2)\n",
      "Requirement already satisfied: attrs>=22.2.0 in c:\\users\\jobsr\\github\\s7\\.venv\\lib\\site-packages (from jsonschema>=3.0->altair<6,>=4.0->streamlit>=0.66->stqdm) (25.3.0)\n",
      "Requirement already satisfied: jsonschema-specifications>=2023.03.6 in c:\\users\\jobsr\\github\\s7\\.venv\\lib\\site-packages (from jsonschema>=3.0->altair<6,>=4.0->streamlit>=0.66->stqdm) (2024.10.1)\n",
      "Requirement already satisfied: referencing>=0.28.4 in c:\\users\\jobsr\\github\\s7\\.venv\\lib\\site-packages (from jsonschema>=3.0->altair<6,>=4.0->streamlit>=0.66->stqdm) (0.36.2)\n",
      "Requirement already satisfied: rpds-py>=0.7.1 in c:\\users\\jobsr\\github\\s7\\.venv\\lib\\site-packages (from jsonschema>=3.0->altair<6,>=4.0->streamlit>=0.66->stqdm) (0.24.0)\n",
      "Requirement already satisfied: six>=1.5 in c:\\users\\jobsr\\github\\s7\\.venv\\lib\\site-packages (from python-dateutil>=2.8.2->pandas<3,>=1.4.0->streamlit>=0.66->stqdm) (1.17.0)\n",
      "Downloading stqdm-0.0.5-py3-none-any.whl (11 kB)\n",
      "Installing collected packages: stqdm\n",
      "Successfully installed stqdm-0.0.5\n"
     ]
    },
    {
     "name": "stderr",
     "output_type": "stream",
     "text": [
      "\n",
      "[notice] A new release of pip is available: 25.0.1 -> 25.1.1\n",
      "[notice] To update, run: python.exe -m pip install --upgrade pip\n"
     ]
    }
   ],
   "source": [
    "!pip install stqdm"
   ]
  },
  {
   "cell_type": "code",
   "execution_count": null,
   "id": "b6981057",
   "metadata": {},
   "outputs": [],
   "source": []
  }
 ],
 "metadata": {
  "kernelspec": {
   "display_name": ".venv",
   "language": "python",
   "name": "python3"
  },
  "language_info": {
   "codemirror_mode": {
    "name": "ipython",
    "version": 3
   },
   "file_extension": ".py",
   "mimetype": "text/x-python",
   "name": "python",
   "nbconvert_exporter": "python",
   "pygments_lexer": "ipython3",
   "version": "3.12.10"
  }
 },
 "nbformat": 4,
 "nbformat_minor": 5
}
